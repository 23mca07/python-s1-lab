{
  "nbformat": 4,
  "nbformat_minor": 0,
  "metadata": {
    "colab": {
      "provenance": [],
      "include_colab_link": true
    },
    "kernelspec": {
      "name": "python3",
      "display_name": "Python 3"
    },
    "language_info": {
      "name": "python"
    }
  },
  "cells": [
    {
      "cell_type": "markdown",
      "metadata": {
        "id": "view-in-github",
        "colab_type": "text"
      },
      "source": [
        "<a href=\"https://colab.research.google.com/github/23mca07/python-s1-lab/blob/main/Copy_of_CO1%26CO2.ipynb\" target=\"_parent\"><img src=\"https://colab.research.google.com/assets/colab-badge.svg\" alt=\"Open In Colab\"/></a>"
      ]
    },
    {
      "cell_type": "markdown",
      "source": [
        "CO1"
      ],
      "metadata": {
        "id": "wE6GRNBDO99r"
      }
    },
    {
      "cell_type": "markdown",
      "source": [
        "2. Display future leap years from current year to a final year entered by user."
      ],
      "metadata": {
        "id": "50Cuk2zNAUff"
      }
    },
    {
      "cell_type": "code",
      "source": [
        "cy=int(input(\"Enter the current year : \"))\n",
        "fy=int(input(\"Enter the ending year : \"))\n",
        "for  i in range(cy,fy):\n",
        "  if (i%400==0) and (i%100==0):\n",
        "    print(i)\n",
        "  elif (i%4==0) and (i%100!=0):\n",
        "    print(i)"
      ],
      "metadata": {
        "colab": {
          "base_uri": "https://localhost:8080/"
        },
        "id": "mQ50vwrUAVaf",
        "outputId": "44cf0725-915e-4bea-e178-05538b0e7402"
      },
      "execution_count": null,
      "outputs": [
        {
          "name": "stdout",
          "output_type": "stream",
          "text": [
            "Enter the current year : 2023\n",
            "Enter the ending year : 2024\n"
          ]
        }
      ]
    },
    {
      "cell_type": "markdown",
      "source": [
        "3. List comprehensions:\n",
        "(a) Generate positive list of numbers from a given list of integers\n",
        "(b) Square of N numbers\n",
        "(c) Form a list of vowels selected from a given word\n",
        "(d) List ordinal value of each element of a word (Hint: use ord() to get ordinal values)\n"
      ],
      "metadata": {
        "id": "bcO7FF6dvRn3"
      }
    },
    {
      "cell_type": "code",
      "source": [
        "n=[-10,-9,-8,-7,-6,-5,-4,-3,-2,-1,0,1,2,3,4,5,6,7,8,9,10]\n",
        "l=[i for i in n if i>=0]\n",
        "print(\"List of +ve numbers : \",l)"
      ],
      "metadata": {
        "colab": {
          "base_uri": "https://localhost:8080/"
        },
        "id": "Y79XWOTPMp0B",
        "outputId": "d26c5466-42aa-4e0d-907c-9bebb55f4d6b"
      },
      "execution_count": null,
      "outputs": [
        {
          "output_type": "stream",
          "name": "stdout",
          "text": [
            "List of +ve numbers :  [0, 1, 2, 3, 4, 5, 6, 7, 8, 9, 10]\n"
          ]
        }
      ]
    },
    {
      "cell_type": "code",
      "source": [
        "n=int(input(\"Enter no of terms : \"))\n",
        "sq_list=[i*i for i in range(n)]\n",
        "print(\"List of square of N numbers : \",sq_list)"
      ],
      "metadata": {
        "colab": {
          "base_uri": "https://localhost:8080/"
        },
        "id": "WQnIILkONQkx",
        "outputId": "2eb5e23b-c2c8-40a5-f2b1-e985e57728c2"
      },
      "execution_count": null,
      "outputs": [
        {
          "output_type": "stream",
          "name": "stdout",
          "text": [
            "Enter no of terms : 5\n",
            "List of square of N numbers :  [0, 1, 4, 9, 16]\n"
          ]
        }
      ]
    },
    {
      "cell_type": "code",
      "source": [
        "c=input(\"Enter a word : \")\n",
        "v_list=[i for i in c if i in \"AEIOUaeiou\"]\n",
        "print(\"List of vowels : \",v_list)\n"
      ],
      "metadata": {
        "colab": {
          "base_uri": "https://localhost:8080/"
        },
        "id": "99zcrC5iN02x",
        "outputId": "85a3df27-31c0-47d2-fe86-a9f2ed28f0e4"
      },
      "execution_count": null,
      "outputs": [
        {
          "output_type": "stream",
          "name": "stdout",
          "text": [
            "Enter a word : Hello\n",
            "List of vowels :  ['e', 'o']\n"
          ]
        }
      ]
    },
    {
      "cell_type": "code",
      "source": [
        "x=input(\"Enter a word : \")\n",
        "o_list=[ord(i) for i in x]\n",
        "print(\"List of ordinal values : \",o_list)"
      ],
      "metadata": {
        "colab": {
          "base_uri": "https://localhost:8080/"
        },
        "id": "svjHkDCEPAh6",
        "outputId": "88bdbf57-ef99-4e4e-a48f-fa34221cf43f"
      },
      "execution_count": null,
      "outputs": [
        {
          "output_type": "stream",
          "name": "stdout",
          "text": [
            "Enter a word : Hello\n",
            "List of ordinal values :  [72, 101, 108, 108, 111]\n"
          ]
        }
      ]
    },
    {
      "cell_type": "markdown",
      "source": [
        "4. Count the occurrences of each word in a line of text."
      ],
      "metadata": {
        "id": "-HlAI_AzwLJP"
      }
    },
    {
      "cell_type": "code",
      "execution_count": null,
      "metadata": {
        "colab": {
          "base_uri": "https://localhost:8080/"
        },
        "id": "VnL4lSRLlOCl",
        "outputId": "5fbf0237-319e-4511-e5dc-17af531c2f36"
      },
      "outputs": [
        {
          "name": "stdout",
          "output_type": "stream",
          "text": [
            "Enter a line : Hello world this is python programming  python is simple\n",
            "{'Hello': 1, 'world': 1, 'this': 1, 'is': 2, 'python': 2, 'programming': 1, 'simple': 1}\n"
          ]
        }
      ],
      "source": [
        "str=input(\"Enter a line : \")\n",
        "l=[]\n",
        "l=str.split();\n",
        "wc=[l.count(i) for i in l]\n",
        "print(dict(zip(l,wc)))"
      ]
    },
    {
      "cell_type": "markdown",
      "source": [
        "5. Prompt the user for a list of integers. For all values greater than 100, store ‘over’ instead."
      ],
      "metadata": {
        "id": "HNnyZhEiwcKG"
      }
    },
    {
      "cell_type": "code",
      "source": [
        "n=int(input(\"Enter no of terms : \"))\n",
        "ls=[]\n",
        "for i in range(n):\n",
        "  x=int(input())\n",
        "  ls.append(x)\n",
        "new_ls=['over' if i>100 else i for i in ls]\n",
        "print(\"New List : \",new_ls)"
      ],
      "metadata": {
        "colab": {
          "base_uri": "https://localhost:8080/"
        },
        "id": "bl2d_MZAc5vS",
        "outputId": "be14ae9d-910b-4844-c784-0d898a9b5281"
      },
      "execution_count": null,
      "outputs": [
        {
          "output_type": "stream",
          "name": "stdout",
          "text": [
            "Enter no of terms : 3\n",
            "100\n",
            "150\n",
            "50\n",
            "New List :  [100, 'over', 50]\n"
          ]
        }
      ]
    },
    {
      "cell_type": "markdown",
      "source": [
        "6. Store a list of first names. Count the occurrences of ‘a’ within the list"
      ],
      "metadata": {
        "id": "i9n1Ys5yxPif"
      }
    },
    {
      "cell_type": "code",
      "source": [
        "names=[\"Anirudh\",\"Divya\",\"CG Akshay\"]\n",
        "sm_names=[i.lower() for i in names]\n",
        "for i in sm_names:\n",
        "  print(\"'a' repeats in \",i,i.count('a'),\" times\")"
      ],
      "metadata": {
        "colab": {
          "base_uri": "https://localhost:8080/"
        },
        "id": "kb7fd-szhCGv",
        "outputId": "c203a9ad-ec51-4cc8-db7b-48334b99ad50"
      },
      "execution_count": null,
      "outputs": [
        {
          "output_type": "stream",
          "name": "stdout",
          "text": [
            "'a' repeats  anirudh 1  times\n",
            "'a' repeats  divya 1  times\n",
            "'a' repeats  cg akshay 2  times\n"
          ]
        }
      ]
    },
    {
      "cell_type": "markdown",
      "source": [
        "7. Enter 2 lists of integers. Check\n",
        "(a) Whether list are of same length\n",
        "(b) whether list sums to same value\n",
        "(c) whether any value occur in both"
      ],
      "metadata": {
        "id": "lZaA7_yWzDo-"
      }
    },
    {
      "cell_type": "code",
      "source": [
        "l1=[7]\n",
        "l2=[]\n",
        "n1=int(input(\"Enter the size of list 1 : \"))\n",
        "print(\"Enter list 1 : \")\n",
        "for i in range(n1):\n",
        "  i=int(input())\n",
        "  l1.append(i)\n",
        "\n",
        "n2=int(input(\"Enter the size of list 2 : \"))\n",
        "print(\"Enter list 2 : \")\n",
        "for i in range(n2):\n",
        "  i=int(input())\n",
        "  l2.append(i)\n",
        "\n",
        "if n1==n2:\n",
        "  print(\"Lists are of same length\")\n",
        "else:\n",
        "  print(\"Lists are of diffferent length\")\n",
        "\n",
        "\n",
        "if sum(l1)==sum(l2):\n",
        "  print(\"Sum of lists are of same\")\n",
        "else:\n",
        "  print(\"Sum of lists are diffferent\")\n",
        "\n",
        "res=[i for i in l1 if i in l2]\n",
        "print(\"Common elements : \",res)"
      ],
      "metadata": {
        "colab": {
          "base_uri": "https://localhost:8080/"
        },
        "id": "Ny_-9sHU06aX",
        "outputId": "b7fa9636-e154-4139-a5cc-87ef617b89f0"
      },
      "execution_count": null,
      "outputs": [
        {
          "output_type": "stream",
          "name": "stdout",
          "text": [
            "Enter the size of list 1 : 5\n",
            "Enter list 1 : \n",
            "1\n",
            "2\n",
            "3\n",
            "4\n",
            "5\n",
            "Enter the size of list 2 : 5\n",
            "Enter list 2 : \n",
            "1\n",
            "3\n",
            "5\n",
            "7\n",
            "9\n",
            "Lists are of same length\n",
            "Sum of lists are diffferent\n",
            "Common elements :  [1, 3, 5]\n"
          ]
        }
      ]
    },
    {
      "cell_type": "markdown",
      "source": [
        "8. Get a string from an input string where all occurrences of first character replaced with ‘$’, except first character. [eg: onion -> oni$n]"
      ],
      "metadata": {
        "id": "E4Io4ZXnVO_y"
      }
    },
    {
      "cell_type": "code",
      "source": [
        "str1=input(\"Enter a word : \")\n",
        "f_c=str1[0]\n",
        "str1=str1.replace(f_c,'$')\n",
        "str1=f_c+str1[1:]\n",
        "print(str1)\n"
      ],
      "metadata": {
        "colab": {
          "base_uri": "https://localhost:8080/",
          "height": 53
        },
        "id": "wdPzlO96HoiY",
        "outputId": "948ed58c-9bd8-4e54-e148-8d9d4b02c58b"
      },
      "execution_count": null,
      "outputs": [
        {
          "name": "stdout",
          "output_type": "stream",
          "text": [
            "Enter a word : anirudhjbhatt\n"
          ]
        },
        {
          "output_type": "execute_result",
          "data": {
            "text/plain": [
              "'anirudhjbh$tt'"
            ],
            "application/vnd.google.colaboratory.intrinsic+json": {
              "type": "string"
            }
          },
          "metadata": {},
          "execution_count": 10
        }
      ]
    },
    {
      "cell_type": "markdown",
      "source": [
        "9. Create a string from given string where first and last characters exchanged. [eg: python -> nythop]\n"
      ],
      "metadata": {
        "id": "LTSIvfMeViyh"
      }
    },
    {
      "cell_type": "code",
      "source": [
        "name=input(\"Enter a name : \")\n",
        "name[-1]+name[1:-1]+name[0]"
      ],
      "metadata": {
        "colab": {
          "base_uri": "https://localhost:8080/",
          "height": 53
        },
        "id": "2cznKRqIOWJ4",
        "outputId": "d9fcaffa-fc54-42a2-d9b0-54a9a7dc7a30"
      },
      "execution_count": null,
      "outputs": [
        {
          "name": "stdout",
          "output_type": "stream",
          "text": [
            "Enter a name : Anirudh\n"
          ]
        },
        {
          "output_type": "execute_result",
          "data": {
            "text/plain": [
              "'hnirudA'"
            ],
            "application/vnd.google.colaboratory.intrinsic+json": {
              "type": "string"
            }
          },
          "metadata": {},
          "execution_count": 16
        }
      ]
    },
    {
      "cell_type": "markdown",
      "source": [
        "10. Accept the radius from user and find area of circle."
      ],
      "metadata": {
        "id": "qf5-ptwKAW_5"
      }
    },
    {
      "cell_type": "code",
      "source": [
        "r=float(input(\"Enter the radius : \"))\n",
        "print(\"Area : \",3.14*r*r)"
      ],
      "metadata": {
        "colab": {
          "base_uri": "https://localhost:8080/"
        },
        "id": "mI21XnPYE1gm",
        "outputId": "1cf942cf-90c6-4e25-c74e-ca95a9b13d3f"
      },
      "execution_count": null,
      "outputs": [
        {
          "output_type": "stream",
          "name": "stdout",
          "text": [
            "Enter the radius : 100\n",
            "Area :  31400.0\n"
          ]
        }
      ]
    },
    {
      "cell_type": "markdown",
      "source": [
        "11. Find biggest of 3 numbers entered."
      ],
      "metadata": {
        "id": "w7vEL8qrAZaP"
      }
    },
    {
      "cell_type": "code",
      "source": [
        "a=int(input(\"Enter the first number : \"))\n",
        "b=int(input(\"Enter the second number : \"))\n",
        "c=int(input(\"Enter the third number : \"))\n",
        "if a>b and a>c:\n",
        "  print(a, \"is the largest number\")\n",
        "elif b>a and b>c:\n",
        "  print(b, \"is the largest number\")\n",
        "else:\n",
        "  print(c, \"is the largest number\")"
      ],
      "metadata": {
        "colab": {
          "base_uri": "https://localhost:8080/"
        },
        "id": "sKT9LiRoFUFH",
        "outputId": "841040db-d1b2-4c11-b986-8e1447448208"
      },
      "execution_count": null,
      "outputs": [
        {
          "output_type": "stream",
          "name": "stdout",
          "text": [
            "Enter the first number : 10\n",
            "Enter the second number : 20\n",
            "Enter the third number : 30\n",
            "30 is the largest number\n"
          ]
        }
      ]
    },
    {
      "cell_type": "markdown",
      "source": [
        "12. Accept a file name from user and print extension of that"
      ],
      "metadata": {
        "id": "ga9y6_TQV7Yl"
      }
    },
    {
      "cell_type": "code",
      "source": [
        "f_name=input(\"Enter a filename : \")\n",
        "f_ext=f_name.split(\".\")\n",
        "print(\"Extension : \",f_ext[-1])"
      ],
      "metadata": {
        "colab": {
          "base_uri": "https://localhost:8080/"
        },
        "id": "eXE9WjeMvi_z",
        "outputId": "080001bf-f9a4-4bc0-e8e6-ce908291451e"
      },
      "execution_count": null,
      "outputs": [
        {
          "output_type": "stream",
          "name": "stdout",
          "text": [
            "Enter a filename : abc.py\n",
            "Extension :  py\n"
          ]
        }
      ]
    },
    {
      "cell_type": "markdown",
      "source": [
        "13. Create a list of colors from comma-separated color names entered by user. Display first and last colors.\n"
      ],
      "metadata": {
        "id": "7-RbOA1XWF4A"
      }
    },
    {
      "cell_type": "code",
      "source": [
        "colors=[\"Red\",\"Yellow\",\"Green\",\"Blue\",\"Violet\"]\n",
        "print(\"First color : \",colors[0],\" Last color : \",colors[-1])"
      ],
      "metadata": {
        "colab": {
          "base_uri": "https://localhost:8080/"
        },
        "id": "FjPa3babWMk5",
        "outputId": "4b37e2da-198c-4cce-c05f-bc259d881b27"
      },
      "execution_count": null,
      "outputs": [
        {
          "output_type": "stream",
          "name": "stdout",
          "text": [
            "First color :  Red  Last color :  Violet\n"
          ]
        }
      ]
    },
    {
      "cell_type": "markdown",
      "source": [
        "14. Accept an integer n and compute n+nn+nnn"
      ],
      "metadata": {
        "id": "nbTCCrIQWqh7"
      }
    },
    {
      "cell_type": "code",
      "source": [
        "n=int(input(\"Enter a number : \"))\n",
        "n1=n\n",
        "n2=n*n\n",
        "n3=n*n*n\n",
        "print(n1+n2+n3)"
      ],
      "metadata": {
        "colab": {
          "base_uri": "https://localhost:8080/"
        },
        "id": "ZM9H0XdIPnCG",
        "outputId": "17bec7d8-b0be-45d5-8505-97114c1f0789"
      },
      "execution_count": null,
      "outputs": [
        {
          "output_type": "stream",
          "name": "stdout",
          "text": [
            "Enter a number : 5\n",
            "155\n"
          ]
        }
      ]
    },
    {
      "cell_type": "markdown",
      "source": [
        "15. Print out all colors from color-list1 not contained in color-list2"
      ],
      "metadata": {
        "id": "GIFXzfjQW4mI"
      }
    },
    {
      "cell_type": "code",
      "source": [
        "c1=[\"Red\",\"Yellow\",\"Green\",\"Blue\",\"Violet\"]\n",
        "c2=[\"Cyan\",\"Yellow\",\"Pink\",\"Blue\",\"Magenta\"]\n",
        "res=[i for i in c2 if i not in c1]\n",
        "print(\"Colors from color-list 1 not in colo-list 2 : \",res)"
      ],
      "metadata": {
        "colab": {
          "base_uri": "https://localhost:8080/"
        },
        "id": "t6iUR2jAW9HL",
        "outputId": "8045c4f5-181d-4475-f410-f3878a4e62c2"
      },
      "execution_count": null,
      "outputs": [
        {
          "output_type": "stream",
          "name": "stdout",
          "text": [
            "Colors from color-list 1 not in colo-list 2 :  ['Cyan', 'Pink', 'Magenta']\n"
          ]
        }
      ]
    },
    {
      "cell_type": "markdown",
      "source": [
        "16. Create a single string separated with space from two strings by swapping the character at position 1."
      ],
      "metadata": {
        "id": "A8VJ9SQWX7tw"
      }
    },
    {
      "cell_type": "code",
      "source": [
        "s1=input(\"Enter string 1 : \")\n",
        "s2=input(\"Enter string 2 : \")\n",
        "s3=s2[0]+s1[1:]+\" \"+s1[0]+s2[1:]\n",
        "print(\"Swapped string :\",s3)"
      ],
      "metadata": {
        "id": "rQD0p2bfbAT1",
        "colab": {
          "base_uri": "https://localhost:8080/"
        },
        "outputId": "12a33e07-8feb-4ac5-c29d-538b8f1132c9"
      },
      "execution_count": null,
      "outputs": [
        {
          "output_type": "stream",
          "name": "stdout",
          "text": [
            "Enter string 1 : Hello\n",
            "Enter string 2 : World\n",
            "Swapped string : Wello Horld\n"
          ]
        }
      ]
    },
    {
      "cell_type": "markdown",
      "source": [
        "17. Sort dictionary in ascending and descending order."
      ],
      "metadata": {
        "id": "Oc1k-cqNkS6T"
      }
    },
    {
      "cell_type": "code",
      "source": [
        "d = {'Anirudh': 10, 'Yadu': 20,'Divya': 30, 'CG Akshay': 40}\n",
        "print(\"Aescending order : \",dict(sorted(d.items())))\n",
        "print(\"Descending order : \",dict(sorted(d.items(), reverse=True)))\n"
      ],
      "metadata": {
        "colab": {
          "base_uri": "https://localhost:8080/"
        },
        "id": "Zny73k3VwWON",
        "outputId": "cab1f470-2f02-482a-897a-fad24b83a733"
      },
      "execution_count": null,
      "outputs": [
        {
          "output_type": "stream",
          "name": "stdout",
          "text": [
            "Aescending order :  {'Anirudh': 10, 'CG Akshay': 40, 'Divya': 30, 'Yadu': 20}\n",
            "Descending order :  {'Yadu': 20, 'Divya': 30, 'CG Akshay': 40, 'Anirudh': 10}\n"
          ]
        }
      ]
    },
    {
      "cell_type": "markdown",
      "source": [
        "18. Merge two dictionaries."
      ],
      "metadata": {
        "id": "oBmAEvm8lXhV"
      }
    },
    {
      "cell_type": "code",
      "source": [
        "d1 = {'Anirudh': 10,'Yadu': 20, 'Divya': 30}\n",
        "d2 = {'Aparna': 20,'Sherin': 40, 'Nayana': 50}\n",
        "print(\"Merged dictionaries :\",d1|d2)"
      ],
      "metadata": {
        "colab": {
          "base_uri": "https://localhost:8080/"
        },
        "outputId": "9e9b6e8d-5e77-4ac2-c0ad-73a736e55829",
        "id": "QKewRorLleS9"
      },
      "execution_count": null,
      "outputs": [
        {
          "output_type": "stream",
          "name": "stdout",
          "text": [
            "Merged dictionaries : {'Anirudh': 10, 'Yadu': 20, 'Divya': 30, 'Aparna': 20, 'Sherin': 40, 'Nayana': 50}\n"
          ]
        }
      ]
    },
    {
      "cell_type": "markdown",
      "source": [
        "19. Find gcd of 2 numbers."
      ],
      "metadata": {
        "id": "_yvZER2-mCAK"
      }
    },
    {
      "cell_type": "code",
      "source": [
        "import math\n",
        "x=int(input(\"Enter the first number : \"))\n",
        "y=int(input(\"Enter the second number : \"))\n",
        "print(\"GCD : \",math.gcd(x,y))"
      ],
      "metadata": {
        "colab": {
          "base_uri": "https://localhost:8080/"
        },
        "id": "NVhNHhh6mDUH",
        "outputId": "d6d989b1-c99e-462d-b4e7-af1d9a4118fb"
      },
      "execution_count": null,
      "outputs": [
        {
          "output_type": "stream",
          "name": "stdout",
          "text": [
            "Enter the first number : 10\n",
            "Enter the second number : 20\n",
            "GCD :  10\n"
          ]
        }
      ]
    },
    {
      "cell_type": "markdown",
      "source": [
        "20. From a list of integers, create a list removing even numbers."
      ],
      "metadata": {
        "id": "zCxlw-iXmlv9"
      }
    },
    {
      "cell_type": "code",
      "source": [
        "l=[]\n",
        "n=int(input(\"Enter the size of the list : \"))\n",
        "print(\"Enter elements : \")\n",
        "for i in range(n):\n",
        "  i=int(input())\n",
        "  l.append(i)\n",
        "\n",
        "for i in l:\n",
        "  if i%2==0:\n",
        "    l.remove(i)\n",
        "\n",
        "print(\"List after removal of even numbers : \",l)"
      ],
      "metadata": {
        "colab": {
          "base_uri": "https://localhost:8080/"
        },
        "id": "QCbIKsbBmpTX",
        "outputId": "dd007503-38d0-4366-ba37-b064d3a01f85"
      },
      "execution_count": null,
      "outputs": [
        {
          "output_type": "stream",
          "name": "stdout",
          "text": [
            "Enter the size of the list : 5\n",
            "Enter elements : \n",
            "2\n",
            "1\n",
            "4\n",
            "3\n",
            "6\n",
            "List after removal of even numbers :  [1, 3]\n"
          ]
        }
      ]
    },
    {
      "cell_type": "markdown",
      "source": [
        "CO2"
      ],
      "metadata": {
        "id": "HQkRDr_UPPli"
      }
    },
    {
      "cell_type": "markdown",
      "source": [
        "1. Program to find the factorial of a number"
      ],
      "metadata": {
        "id": "_lxKoND-AebI"
      }
    },
    {
      "cell_type": "code",
      "source": [
        "def fact(x):\n",
        "  if x==1:\n",
        "    return 1\n",
        "  else:\n",
        "    return x*fact(x-1)\n",
        "x=int(input(\"Enter the number : \"))\n",
        "print(\"Factorial : \",fact(x))"
      ],
      "metadata": {
        "colab": {
          "base_uri": "https://localhost:8080/"
        },
        "id": "W4AiXGixGUPu",
        "outputId": "cd31d7ba-081f-4df1-8fc4-7419c12a757d"
      },
      "execution_count": null,
      "outputs": [
        {
          "output_type": "stream",
          "name": "stdout",
          "text": [
            "Enter the number : 5\n",
            "Factorial :  120\n"
          ]
        }
      ]
    },
    {
      "cell_type": "markdown",
      "source": [
        "2. Generate Fibonacci series of N terms"
      ],
      "metadata": {
        "id": "22Q8r_GZAgn_"
      }
    },
    {
      "cell_type": "code",
      "source": [
        "n=int(input(\"Enter the no of terms : \"))\n",
        "a=0\n",
        "b=1\n",
        "c=a+b\n",
        "print(a,b,c)\n",
        "for i in range(3,n):\n",
        "  a=b\n",
        "  b=c\n",
        "  c=a+b\n",
        "  print(c)"
      ],
      "metadata": {
        "colab": {
          "base_uri": "https://localhost:8080/"
        },
        "id": "igF70KSTIGge",
        "outputId": "9ae871c6-c00a-4ba6-803e-7284caebf7b7"
      },
      "execution_count": null,
      "outputs": [
        {
          "output_type": "stream",
          "name": "stdout",
          "text": [
            "Enter the no of terms : 5\n",
            "0 1 1\n",
            "2\n",
            "3\n"
          ]
        }
      ]
    },
    {
      "cell_type": "markdown",
      "source": [
        "3. Find the sum of all items in a list"
      ],
      "metadata": {
        "id": "RMkbKgEvopqm"
      }
    },
    {
      "cell_type": "code",
      "source": [
        "l=[]\n",
        "n=int(input(\"Enter the size of the list : \"))\n",
        "print(\"Enter elements : \")\n",
        "for i in range(n):\n",
        "  i=int(input())\n",
        "  l.append(i)\n",
        "\n",
        "print(\"Sum : \",sum(l))"
      ],
      "metadata": {
        "colab": {
          "base_uri": "https://localhost:8080/"
        },
        "id": "zafS4Hk-oroP",
        "outputId": "7bc1bd15-1e71-4275-e743-4c36ca13d014"
      },
      "execution_count": null,
      "outputs": [
        {
          "output_type": "stream",
          "name": "stdout",
          "text": [
            "Enter the size of the list : 5\n",
            "Enter elements : \n",
            "1\n",
            "2\n",
            "3\n",
            "4\n",
            "5\n",
            "Sum :  15\n"
          ]
        }
      ]
    },
    {
      "cell_type": "markdown",
      "source": [
        "\n",
        "4. Generate a list of four digit numbers in a given range with all their digits even and the number is a perfect square."
      ],
      "metadata": {
        "id": "rUdQjkSwpX4o"
      }
    },
    {
      "cell_type": "code",
      "source": [
        "res=[]\n",
        "for i in range(1000,10000):\n",
        "    if all(int(x)%2==0 for x in str(i)):\n",
        "        if int(i**0.5)**2==i:\n",
        "            res.append(i)\n",
        "print(\"List of numbers : \",res)"
      ],
      "metadata": {
        "id": "Rp7iCKfFpZhk",
        "colab": {
          "base_uri": "https://localhost:8080/"
        },
        "outputId": "40234de7-8dbe-433f-c308-597f109c31ab"
      },
      "execution_count": null,
      "outputs": [
        {
          "output_type": "stream",
          "name": "stdout",
          "text": [
            "List of numbers :  [4624, 6084, 6400, 8464]\n"
          ]
        }
      ]
    },
    {
      "cell_type": "markdown",
      "source": [
        "5. Display the given pyramid with step number accepted from user.\n",
        "\n",
        "Eg: N=4\n",
        "\n",
        "1\n",
        "\n",
        "2 4\n",
        "\n",
        "3 6 9\n",
        "\n",
        "4 8 12 16"
      ],
      "metadata": {
        "id": "IJ__fwsBAjln"
      }
    },
    {
      "cell_type": "code",
      "source": [
        "n=int(input(\"Enter the no of rows : \"))\n",
        "k=1\n",
        "for i in range(1,n+1):\n",
        "  for j in range(1,i+1):\n",
        "    print(k,end=\" \")\n",
        "    k+=1\n",
        "  print(\"\\n\")"
      ],
      "metadata": {
        "colab": {
          "base_uri": "https://localhost:8080/"
        },
        "id": "vvW1oMMPJvF0",
        "outputId": "da6610ac-4882-4019-d59a-b1188b6022c1"
      },
      "execution_count": null,
      "outputs": [
        {
          "output_type": "stream",
          "name": "stdout",
          "text": [
            "Enter the no of rows : 5\n",
            "1 \n",
            "\n",
            "2 3 \n",
            "\n",
            "4 5 6 \n",
            "\n",
            "7 8 9 10 \n",
            "\n",
            "11 12 13 14 15 \n",
            "\n"
          ]
        }
      ]
    },
    {
      "cell_type": "markdown",
      "source": [
        "6. Count the number of characters (character frequency) in a string."
      ],
      "metadata": {
        "id": "jIQlYS_0GEQt"
      }
    },
    {
      "cell_type": "code",
      "execution_count": null,
      "metadata": {
        "colab": {
          "base_uri": "https://localhost:8080/"
        },
        "outputId": "5fbf0237-319e-4511-e5dc-17af531c2f36",
        "id": "kVNTGbJ2GwkK"
      },
      "outputs": [
        {
          "name": "stdout",
          "output_type": "stream",
          "text": [
            "Enter a line : Hello world this is python programming  python is simple\n",
            "{'Hello': 1, 'world': 1, 'this': 1, 'is': 2, 'python': 2, 'programming': 1, 'simple': 1}\n"
          ]
        }
      ],
      "source": [
        "str=input(\"Enter a line : \")\n",
        "l=[]\n",
        "l=str.split();\n",
        "wc=[l.count(i) for i in l]\n",
        "print(dict(zip(l,wc)))"
      ]
    },
    {
      "cell_type": "markdown",
      "source": [
        "7. Add ‘ing’ at the end of a given string. If it already ends with ‘ing’, then add ‘ly’"
      ],
      "metadata": {
        "id": "3FXe8-zQF69f"
      }
    },
    {
      "cell_type": "code",
      "source": [
        "str1=input(\"Enter a string : \")\n",
        "if str1.endswith('ing'):\n",
        "  str2=str1+'ly'\n",
        "else:\n",
        "  str2=str1+'ing'\n",
        "print(str2)"
      ],
      "metadata": {
        "colab": {
          "base_uri": "https://localhost:8080/"
        },
        "id": "vn6c2eeckVwj",
        "outputId": "f6030982-7749-4b94-be62-9ef99b81c995"
      },
      "execution_count": null,
      "outputs": [
        {
          "output_type": "stream",
          "name": "stdout",
          "text": [
            "Enter a string : String\n",
            "Stringly\n"
          ]
        }
      ]
    },
    {
      "cell_type": "markdown",
      "source": [
        "8. Accept a list of words and return length of longest word."
      ],
      "metadata": {
        "id": "CcORMH0aDm4I"
      }
    },
    {
      "cell_type": "code",
      "source": [
        "a=[]\n",
        "n=int(input(\"Enter the size of the list : \"))\n",
        "print(\"Enter list : \")\n",
        "for i in range(n):\n",
        "  x=input()\n",
        "  a.append(x)\n",
        "\n",
        "max=len(a[0])\n",
        "temp=a[0]\n",
        "for i in a:\n",
        "  if len(i)>max:\n",
        "    max=len(i)\n",
        "    temp=i\n",
        "print(\"Word with max length is \",temp,\"It's length is \",max)"
      ],
      "metadata": {
        "colab": {
          "base_uri": "https://localhost:8080/"
        },
        "id": "Zn22l3Avl9uy",
        "outputId": "838b0f48-84b3-402a-a13f-d0ffe1e6250d"
      },
      "execution_count": null,
      "outputs": [
        {
          "output_type": "stream",
          "name": "stdout",
          "text": [
            "Enter the size of the list : 5\n",
            "Enter list : \n",
            "ABC\n",
            "ABCD\n",
            "ABCDE\n",
            "AB\n",
            "A\n",
            "Word with max length is  ABCDE It's length is  5\n"
          ]
        }
      ]
    },
    {
      "cell_type": "markdown",
      "source": [
        "9. Construct following pattern using nested loop\n",
        "\n",
        "*\n",
        "* *\n",
        "* * *\n",
        "* * * *\n",
        "* * * * *\n",
        "* * * *\n",
        "* * *\n",
        "* *\n",
        "*"
      ],
      "metadata": {
        "id": "dsEmjRFGA6ZX"
      }
    },
    {
      "cell_type": "code",
      "source": [
        "n=int(input(\"Enter the no of rows : \"))\n",
        "for i in range(1,n+1):\n",
        "  print('*'*i)\n",
        "for i in range(n-1,0,-1):\n",
        "  print('*'*i)"
      ],
      "metadata": {
        "colab": {
          "base_uri": "https://localhost:8080/"
        },
        "id": "dI7QcVX1QjbA",
        "outputId": "95f9203b-bfa1-47a6-a12c-6b862e72f456"
      },
      "execution_count": null,
      "outputs": [
        {
          "output_type": "stream",
          "name": "stdout",
          "text": [
            "Enter the no of rows : 5\n",
            "*\n",
            "**\n",
            "***\n",
            "****\n",
            "*****\n",
            "****\n",
            "***\n",
            "**\n",
            "*\n"
          ]
        }
      ]
    },
    {
      "cell_type": "markdown",
      "source": [
        "10. Generate all factors of a number."
      ],
      "metadata": {
        "id": "BpsvZ6gHBDVl"
      }
    },
    {
      "cell_type": "code",
      "source": [
        "def facts(x):\n",
        "  print(\"Factors of \",x,\" are : \")\n",
        "  for i in range(1,x+1):\n",
        "    if(x%i==0):\n",
        "      print(i)\n",
        "n=int(input(\"Enter a number : \"))\n",
        "facts(x)"
      ],
      "metadata": {
        "colab": {
          "base_uri": "https://localhost:8080/"
        },
        "id": "HVW-x1aAN0Dl",
        "outputId": "3af6738d-1bbe-46dc-9b39-25dbd44fbb20"
      },
      "execution_count": null,
      "outputs": [
        {
          "output_type": "stream",
          "name": "stdout",
          "text": [
            "Enter a number : 5\n",
            "Factors of  5  are : \n",
            "1\n",
            "5\n"
          ]
        }
      ]
    },
    {
      "cell_type": "markdown",
      "source": [
        "11. Write lambda functions to find area of square, rectangle and triangle."
      ],
      "metadata": {
        "id": "GCkDDuEbE88P"
      }
    },
    {
      "cell_type": "code",
      "source": [
        "area1=lambda a: a*a\n",
        "area2=lambda l,b: l*b\n",
        "area3=lambda b,h: 0.5*(b*h)\n",
        "\n",
        "s=int(input(\"Enter the side of square : \"))\n",
        "print(\"Area of square : \",area1(s))\n",
        "\n",
        "l=int(input(\"Enter the length of rectangle : \"))\n",
        "b=int(input(\"Enter the breadth of rectangle : \"))\n",
        "print(\"Area of rectangle : \",area2(l,b))\n",
        "\n",
        "b=int(input(\"Enter the base of triangle : \"))\n",
        "h=int(input(\"Enter the height of triangle : \"))\n",
        "print(\"Area of triangle : \",area3(b,h))"
      ],
      "metadata": {
        "colab": {
          "base_uri": "https://localhost:8080/"
        },
        "id": "fAUMsVOqpNai",
        "outputId": "8196645b-5f62-4f83-e0d1-99563147ae9c"
      },
      "execution_count": null,
      "outputs": [
        {
          "output_type": "stream",
          "name": "stdout",
          "text": [
            "Enter the side of square : 5\n",
            "Area of square :  25\n",
            "Enter the length of rectangle : 10\n",
            "Enter the breadth of rectangle : 20\n",
            "Area of rectangle :  200\n",
            "Enter the base of triangle : 10\n",
            "Enter the height of triangle : 20\n",
            "Area of triangle :  100.0\n"
          ]
        }
      ]
    }
  ]
}